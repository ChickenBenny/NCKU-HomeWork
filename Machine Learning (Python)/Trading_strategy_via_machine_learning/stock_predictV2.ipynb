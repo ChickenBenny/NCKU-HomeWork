{
 "cells": [
  {
   "cell_type": "markdown",
   "id": "c4d4fd29",
   "metadata": {},
   "source": [
    "教授上次的意見:\n",
    "1. 決定好上漲和下跌的定義\n",
    "2. 將預測的母體改成純上漲或下跌的點位\n",
    "3. 將範圍擴大，加入次代風暴和經濟大蕭條這種極端案例\n",
    "\n",
    "本次更改及進度:\n",
    "1. 決定好上漲和下跌的定義\n",
    "   (1) 利用10天前和10天後的點位，與當日進行對比。(此種狀況出現的比例最高，約占7成)\n",
    "       檢視兩個變動比率乘機是否小於0，表示當日為v型或^的圖形中的轉折點，並檢視10天前變動比率和10天後變動比率是否皆大於3%，若真則為反轉點。\n",
    "       若僅有一邊的變動比率大於3%，檢視另一邊是否為緩漲或緩跌的狀況，若趨勢下變動比率達3%也視為反轉點。\n",
    "   (2) 縮小天數的window，改成5天及兩天，抓出短期間內震盪超過3%的點位，該點位也視為反轉點。(次高的比率，約占2成左右)\n",
    "   (3) 尋找緩跌和緩漲的狀況，從剩餘的點位中放大window 的天數，定義為超過20天，尋找緩跌或緩漲並且變動比率超過3%者\n",
    "2. 本次按照教授意見方式去進行處理和預測，在SVM和KNN的狀況下，預測準確度皆達9成，圖示如下\n",
    "3. 本次母體從2012年擴增至2006年，涵蓋經濟大蕭條和次代風暴的狀況。\n",
    "4. 短期的選擇權與股價通常高度相關，VIX的指數為30天後的選擇權價格的變動，若預期上漲則會與股價同向成長，若育期下跌則會與股價反向下跌，因此我\n",
    "   們希望加入股票反向關係的債券、黃金，以及與股價正相關係的石油進行比較。比較結果皆不如預期，僅有石油的預測準確率達約6成"
   ]
  },
  {
   "cell_type": "code",
   "execution_count": 26,
   "id": "fa6b1e82",
   "metadata": {},
   "outputs": [],
   "source": [
    "import pandas as pd\n",
    "import numpy as np\n",
    "import pandas_datareader as web\n",
    "import time\n",
    "import datetime as dt\n",
    "import matplotlib.pyplot as plt\n",
    "import seaborn as sns\n",
    "import warnings\n",
    "warnings.simplefilter(action='ignore', category=FutureWarning)\n",
    "%matplotlib inline"
   ]
  },
  {
   "cell_type": "code",
   "execution_count": 2,
   "id": "2eb7b5bb",
   "metadata": {},
   "outputs": [
    {
     "data": {
      "text/html": [
       "<div>\n",
       "<style scoped>\n",
       "    .dataframe tbody tr th:only-of-type {\n",
       "        vertical-align: middle;\n",
       "    }\n",
       "\n",
       "    .dataframe tbody tr th {\n",
       "        vertical-align: top;\n",
       "    }\n",
       "\n",
       "    .dataframe thead th {\n",
       "        text-align: right;\n",
       "    }\n",
       "</style>\n",
       "<table border=\"1\" class=\"dataframe\">\n",
       "  <thead>\n",
       "    <tr style=\"text-align: right;\">\n",
       "      <th></th>\n",
       "      <th>High</th>\n",
       "      <th>Low</th>\n",
       "      <th>Open</th>\n",
       "      <th>Close</th>\n",
       "      <th>Volume</th>\n",
       "      <th>Adj Close</th>\n",
       "    </tr>\n",
       "    <tr>\n",
       "      <th>Date</th>\n",
       "      <th></th>\n",
       "      <th></th>\n",
       "      <th></th>\n",
       "      <th></th>\n",
       "      <th></th>\n",
       "      <th></th>\n",
       "    </tr>\n",
       "  </thead>\n",
       "  <tbody>\n",
       "    <tr>\n",
       "      <th>2004-12-31</th>\n",
       "      <td>13.29</td>\n",
       "      <td>12.42</td>\n",
       "      <td>12.42</td>\n",
       "      <td>13.29</td>\n",
       "      <td>0</td>\n",
       "      <td>13.29</td>\n",
       "    </tr>\n",
       "    <tr>\n",
       "      <th>2005-01-03</th>\n",
       "      <td>14.23</td>\n",
       "      <td>13.25</td>\n",
       "      <td>13.39</td>\n",
       "      <td>14.08</td>\n",
       "      <td>0</td>\n",
       "      <td>14.08</td>\n",
       "    </tr>\n",
       "    <tr>\n",
       "      <th>2005-01-04</th>\n",
       "      <td>14.45</td>\n",
       "      <td>13.93</td>\n",
       "      <td>14.01</td>\n",
       "      <td>13.98</td>\n",
       "      <td>0</td>\n",
       "      <td>13.98</td>\n",
       "    </tr>\n",
       "    <tr>\n",
       "      <th>2005-01-05</th>\n",
       "      <td>14.09</td>\n",
       "      <td>13.26</td>\n",
       "      <td>13.98</td>\n",
       "      <td>14.09</td>\n",
       "      <td>0</td>\n",
       "      <td>14.09</td>\n",
       "    </tr>\n",
       "    <tr>\n",
       "      <th>2005-01-06</th>\n",
       "      <td>14.09</td>\n",
       "      <td>13.33</td>\n",
       "      <td>14.09</td>\n",
       "      <td>13.58</td>\n",
       "      <td>0</td>\n",
       "      <td>13.58</td>\n",
       "    </tr>\n",
       "  </tbody>\n",
       "</table>\n",
       "</div>"
      ],
      "text/plain": [
       "             High    Low   Open  Close  Volume  Adj Close\n",
       "Date                                                     \n",
       "2004-12-31  13.29  12.42  12.42  13.29       0      13.29\n",
       "2005-01-03  14.23  13.25  13.39  14.08       0      14.08\n",
       "2005-01-04  14.45  13.93  14.01  13.98       0      13.98\n",
       "2005-01-05  14.09  13.26  13.98  14.09       0      14.09\n",
       "2005-01-06  14.09  13.33  14.09  13.58       0      13.58"
      ]
     },
     "execution_count": 2,
     "metadata": {},
     "output_type": "execute_result"
    }
   ],
   "source": [
    "# vix\n",
    "target_vix = '%5EVIX'\n",
    "start = dt.datetime(2005, 1, 1)\n",
    "end = dt.date(2021, 11, 1)\n",
    "data_vix = web.DataReader(target_vix, 'yahoo', start, end)\n",
    "data_vix.head()"
   ]
  },
  {
   "cell_type": "code",
   "execution_count": 3,
   "id": "de097d24",
   "metadata": {},
   "outputs": [
    {
     "data": {
      "text/html": [
       "<div>\n",
       "<style scoped>\n",
       "    .dataframe tbody tr th:only-of-type {\n",
       "        vertical-align: middle;\n",
       "    }\n",
       "\n",
       "    .dataframe tbody tr th {\n",
       "        vertical-align: top;\n",
       "    }\n",
       "\n",
       "    .dataframe thead th {\n",
       "        text-align: right;\n",
       "    }\n",
       "</style>\n",
       "<table border=\"1\" class=\"dataframe\">\n",
       "  <thead>\n",
       "    <tr style=\"text-align: right;\">\n",
       "      <th></th>\n",
       "      <th>High</th>\n",
       "      <th>Low</th>\n",
       "      <th>Open</th>\n",
       "      <th>Close</th>\n",
       "      <th>Volume</th>\n",
       "      <th>Adj Close</th>\n",
       "      <th>daily_return</th>\n",
       "      <th>high-low</th>\n",
       "      <th>max-min</th>\n",
       "      <th>log_return</th>\n",
       "    </tr>\n",
       "    <tr>\n",
       "      <th>Date</th>\n",
       "      <th></th>\n",
       "      <th></th>\n",
       "      <th></th>\n",
       "      <th></th>\n",
       "      <th></th>\n",
       "      <th></th>\n",
       "      <th></th>\n",
       "      <th></th>\n",
       "      <th></th>\n",
       "      <th></th>\n",
       "    </tr>\n",
       "  </thead>\n",
       "  <tbody>\n",
       "    <tr>\n",
       "      <th>2004-12-31</th>\n",
       "      <td>13.29</td>\n",
       "      <td>12.42</td>\n",
       "      <td>12.42</td>\n",
       "      <td>13.29</td>\n",
       "      <td>0</td>\n",
       "      <td>13.29</td>\n",
       "      <td>NaN</td>\n",
       "      <td>0.065463</td>\n",
       "      <td>0.056424</td>\n",
       "      <td>NaN</td>\n",
       "    </tr>\n",
       "    <tr>\n",
       "      <th>2005-01-03</th>\n",
       "      <td>14.23</td>\n",
       "      <td>13.25</td>\n",
       "      <td>13.39</td>\n",
       "      <td>14.08</td>\n",
       "      <td>0</td>\n",
       "      <td>14.08</td>\n",
       "      <td>0.059443</td>\n",
       "      <td>0.069602</td>\n",
       "      <td>0.067165</td>\n",
       "      <td>0.057743</td>\n",
       "    </tr>\n",
       "    <tr>\n",
       "      <th>2005-01-04</th>\n",
       "      <td>14.45</td>\n",
       "      <td>13.93</td>\n",
       "      <td>14.01</td>\n",
       "      <td>13.98</td>\n",
       "      <td>0</td>\n",
       "      <td>13.98</td>\n",
       "      <td>-0.007102</td>\n",
       "      <td>0.037196</td>\n",
       "      <td>0.065806</td>\n",
       "      <td>-0.007128</td>\n",
       "    </tr>\n",
       "    <tr>\n",
       "      <th>2005-01-05</th>\n",
       "      <td>14.09</td>\n",
       "      <td>13.26</td>\n",
       "      <td>13.98</td>\n",
       "      <td>14.09</td>\n",
       "      <td>0</td>\n",
       "      <td>14.09</td>\n",
       "      <td>0.007868</td>\n",
       "      <td>0.058907</td>\n",
       "      <td>0.067301</td>\n",
       "      <td>0.007838</td>\n",
       "    </tr>\n",
       "    <tr>\n",
       "      <th>2005-01-06</th>\n",
       "      <td>14.09</td>\n",
       "      <td>13.33</td>\n",
       "      <td>14.09</td>\n",
       "      <td>13.58</td>\n",
       "      <td>0</td>\n",
       "      <td>13.58</td>\n",
       "      <td>-0.036196</td>\n",
       "      <td>0.055965</td>\n",
       "      <td>0.060367</td>\n",
       "      <td>-0.036867</td>\n",
       "    </tr>\n",
       "  </tbody>\n",
       "</table>\n",
       "</div>"
      ],
      "text/plain": [
       "             High    Low   Open  Close  Volume  Adj Close  daily_return  \\\n",
       "Date                                                                      \n",
       "2004-12-31  13.29  12.42  12.42  13.29       0      13.29           NaN   \n",
       "2005-01-03  14.23  13.25  13.39  14.08       0      14.08      0.059443   \n",
       "2005-01-04  14.45  13.93  14.01  13.98       0      13.98     -0.007102   \n",
       "2005-01-05  14.09  13.26  13.98  14.09       0      14.09      0.007868   \n",
       "2005-01-06  14.09  13.33  14.09  13.58       0      13.58     -0.036196   \n",
       "\n",
       "            high-low   max-min  log_return  \n",
       "Date                                        \n",
       "2004-12-31  0.065463  0.056424         NaN  \n",
       "2005-01-03  0.069602  0.067165    0.057743  \n",
       "2005-01-04  0.037196  0.065806   -0.007128  \n",
       "2005-01-05  0.058907  0.067301    0.007838  \n",
       "2005-01-06  0.055965  0.060367   -0.036867  "
      ]
     },
     "execution_count": 3,
     "metadata": {},
     "output_type": "execute_result"
    }
   ],
   "source": [
    "data_vix['daily_return'] = (data_vix.Close - data_vix.Close.shift(1))/ data_vix.Close.shift(1)\n",
    "data_vix['high-low'] = (data_vix.High - data_vix.Low)/ data_vix.Close\n",
    "data_vix['max-min'] = (data_vix.Close - data_vix.Close.min())/ (data_vix.Close.max() - data_vix.Close.min())\n",
    "data_vix['log_return'] = (np.log(data_vix.Close.values) - np.log(data_vix.Close.shift(1).values))\n",
    "data_vix.head()"
   ]
  },
  {
   "cell_type": "code",
   "execution_count": 4,
   "id": "7154452e",
   "metadata": {},
   "outputs": [
    {
     "data": {
      "text/html": [
       "<div>\n",
       "<style scoped>\n",
       "    .dataframe tbody tr th:only-of-type {\n",
       "        vertical-align: middle;\n",
       "    }\n",
       "\n",
       "    .dataframe tbody tr th {\n",
       "        vertical-align: top;\n",
       "    }\n",
       "\n",
       "    .dataframe thead th {\n",
       "        text-align: right;\n",
       "    }\n",
       "</style>\n",
       "<table border=\"1\" class=\"dataframe\">\n",
       "  <thead>\n",
       "    <tr style=\"text-align: right;\">\n",
       "      <th></th>\n",
       "      <th>daily_return</th>\n",
       "      <th>high-low</th>\n",
       "      <th>max-min</th>\n",
       "      <th>log_return</th>\n",
       "    </tr>\n",
       "    <tr>\n",
       "      <th>Date</th>\n",
       "      <th></th>\n",
       "      <th></th>\n",
       "      <th></th>\n",
       "      <th></th>\n",
       "    </tr>\n",
       "  </thead>\n",
       "  <tbody>\n",
       "    <tr>\n",
       "      <th>2004-12-31</th>\n",
       "      <td>NaN</td>\n",
       "      <td>0.065463</td>\n",
       "      <td>0.056424</td>\n",
       "      <td>NaN</td>\n",
       "    </tr>\n",
       "    <tr>\n",
       "      <th>2005-01-03</th>\n",
       "      <td>0.059443</td>\n",
       "      <td>0.069602</td>\n",
       "      <td>0.067165</td>\n",
       "      <td>0.057743</td>\n",
       "    </tr>\n",
       "    <tr>\n",
       "      <th>2005-01-04</th>\n",
       "      <td>-0.007102</td>\n",
       "      <td>0.037196</td>\n",
       "      <td>0.065806</td>\n",
       "      <td>-0.007128</td>\n",
       "    </tr>\n",
       "    <tr>\n",
       "      <th>2005-01-05</th>\n",
       "      <td>0.007868</td>\n",
       "      <td>0.058907</td>\n",
       "      <td>0.067301</td>\n",
       "      <td>0.007838</td>\n",
       "    </tr>\n",
       "    <tr>\n",
       "      <th>2005-01-06</th>\n",
       "      <td>-0.036196</td>\n",
       "      <td>0.055965</td>\n",
       "      <td>0.060367</td>\n",
       "      <td>-0.036867</td>\n",
       "    </tr>\n",
       "  </tbody>\n",
       "</table>\n",
       "</div>"
      ],
      "text/plain": [
       "            daily_return  high-low   max-min  log_return\n",
       "Date                                                    \n",
       "2004-12-31           NaN  0.065463  0.056424         NaN\n",
       "2005-01-03      0.059443  0.069602  0.067165    0.057743\n",
       "2005-01-04     -0.007102  0.037196  0.065806   -0.007128\n",
       "2005-01-05      0.007868  0.058907  0.067301    0.007838\n",
       "2005-01-06     -0.036196  0.055965  0.060367   -0.036867"
      ]
     },
     "execution_count": 4,
     "metadata": {},
     "output_type": "execute_result"
    }
   ],
   "source": [
    "data_vix_merge = data_vix.iloc[:, [6, 7, 8, 9]]\n",
    "data_vix_merge.head()"
   ]
  },
  {
   "cell_type": "code",
   "execution_count": 7,
   "id": "6e0609ca",
   "metadata": {},
   "outputs": [
    {
     "data": {
      "text/html": [
       "<div>\n",
       "<style scoped>\n",
       "    .dataframe tbody tr th:only-of-type {\n",
       "        vertical-align: middle;\n",
       "    }\n",
       "\n",
       "    .dataframe tbody tr th {\n",
       "        vertical-align: top;\n",
       "    }\n",
       "\n",
       "    .dataframe thead th {\n",
       "        text-align: right;\n",
       "    }\n",
       "</style>\n",
       "<table border=\"1\" class=\"dataframe\">\n",
       "  <thead>\n",
       "    <tr style=\"text-align: right;\">\n",
       "      <th></th>\n",
       "      <th>Adj Close</th>\n",
       "      <th>label</th>\n",
       "      <th>daily_return</th>\n",
       "      <th>log_return</th>\n",
       "      <th>5-10ma</th>\n",
       "      <th>5-15ma</th>\n",
       "      <th>5-20ma</th>\n",
       "      <th>5-25ma</th>\n",
       "    </tr>\n",
       "    <tr>\n",
       "      <th>Date</th>\n",
       "      <th></th>\n",
       "      <th></th>\n",
       "      <th></th>\n",
       "      <th></th>\n",
       "      <th></th>\n",
       "      <th></th>\n",
       "      <th></th>\n",
       "      <th></th>\n",
       "    </tr>\n",
       "  </thead>\n",
       "  <tbody>\n",
       "    <tr>\n",
       "      <th>2005-01-04</th>\n",
       "      <td>6060.437500</td>\n",
       "      <td>0</td>\n",
       "      <td>-0.013456</td>\n",
       "      <td>-0.013547</td>\n",
       "      <td>-4.133008</td>\n",
       "      <td>-5.510677</td>\n",
       "      <td>-6.199512</td>\n",
       "      <td>-6.612812</td>\n",
       "    </tr>\n",
       "    <tr>\n",
       "      <th>2005-01-05</th>\n",
       "      <td>5988.347656</td>\n",
       "      <td>0</td>\n",
       "      <td>-0.011895</td>\n",
       "      <td>-0.011966</td>\n",
       "      <td>-10.010140</td>\n",
       "      <td>-13.411941</td>\n",
       "      <td>-15.120949</td>\n",
       "      <td>-16.148409</td>\n",
       "    </tr>\n",
       "    <tr>\n",
       "      <th>2005-01-06</th>\n",
       "      <td>5982.098145</td>\n",
       "      <td>0</td>\n",
       "      <td>-0.001044</td>\n",
       "      <td>-0.001044</td>\n",
       "      <td>-12.004938</td>\n",
       "      <td>-16.340442</td>\n",
       "      <td>-18.559688</td>\n",
       "      <td>-19.906080</td>\n",
       "    </tr>\n",
       "    <tr>\n",
       "      <th>2005-01-07</th>\n",
       "      <td>5935.968262</td>\n",
       "      <td>0</td>\n",
       "      <td>-0.007711</td>\n",
       "      <td>-0.007741</td>\n",
       "      <td>-16.510758</td>\n",
       "      <td>-22.600072</td>\n",
       "      <td>-25.733493</td>\n",
       "      <td>-27.638545</td>\n",
       "    </tr>\n",
       "    <tr>\n",
       "      <th>2005-01-10</th>\n",
       "      <td>5942.828125</td>\n",
       "      <td>0</td>\n",
       "      <td>0.001156</td>\n",
       "      <td>0.001155</td>\n",
       "      <td>-16.845460</td>\n",
       "      <td>-23.539864</td>\n",
       "      <td>-27.061996</td>\n",
       "      <td>-29.225846</td>\n",
       "    </tr>\n",
       "  </tbody>\n",
       "</table>\n",
       "</div>"
      ],
      "text/plain": [
       "              Adj Close  label  daily_return  log_return     5-10ma  \\\n",
       "Date                                                                  \n",
       "2005-01-04  6060.437500      0     -0.013456   -0.013547  -4.133008   \n",
       "2005-01-05  5988.347656      0     -0.011895   -0.011966 -10.010140   \n",
       "2005-01-06  5982.098145      0     -0.001044   -0.001044 -12.004938   \n",
       "2005-01-07  5935.968262      0     -0.007711   -0.007741 -16.510758   \n",
       "2005-01-10  5942.828125      0      0.001156    0.001155 -16.845460   \n",
       "\n",
       "               5-15ma     5-20ma     5-25ma  \n",
       "Date                                         \n",
       "2005-01-04  -5.510677  -6.199512  -6.612812  \n",
       "2005-01-05 -13.411941 -15.120949 -16.148409  \n",
       "2005-01-06 -16.340442 -18.559688 -19.906080  \n",
       "2005-01-07 -22.600072 -25.733493 -27.638545  \n",
       "2005-01-10 -23.539864 -27.061996 -29.225846  "
      ]
     },
     "execution_count": 7,
     "metadata": {},
     "output_type": "execute_result"
    }
   ],
   "source": [
    "# stock MACD\n",
    "data_tw = pd.read_csv('D:\\stock_papper\\stock_label.csv', index_col = 'Date')\n",
    "data_tw.index = pd.to_datetime(data_tw.index, format = '%Y/%m/%d')\n",
    "data_tw.head()\n",
    "\n",
    "data_tw['5ma'] = data_tw['Adj Close'].ewm(span = 5).mean()\n",
    "data_tw['10ma'] = data_tw['Adj Close'].ewm(span = 10).mean()\n",
    "data_tw['15ma'] = data_tw['Adj Close'].ewm(span = 15).mean()\n",
    "data_tw['20ma'] = data_tw['Adj Close'].ewm(span = 20).mean()\n",
    "data_tw['25ma'] = data_tw['Adj Close'].ewm(span = 25).mean()\n",
    "data_tw['daily_return'] = (data_tw['Adj Close'] - data_tw['Adj Close'].shift(1))/ data_tw['Adj Close'].shift(1)\n",
    "data_tw['log_return'] = np.log(data_tw['Adj Close'].values) - np.log(data_tw['Adj Close'].shift(1).values)\n",
    "data_tw['5-10ma'] = data_tw['5ma'] - data_tw['10ma']\n",
    "data_tw['5-15ma'] = data_tw['5ma'] - data_tw['15ma']\n",
    "data_tw['5-20ma'] = data_tw['5ma'] - data_tw['20ma']\n",
    "data_tw['5-25ma'] = data_tw['5ma'] - data_tw['25ma']\n",
    "data_tw.head(10)\n",
    "\n",
    "data_tw = data_tw.dropna()\n",
    "data_tw_merge = data_tw.iloc[:, [0, 1, 7, 8, 9, 10, 11, 12]]\n",
    "data_tw_merge.head()"
   ]
  },
  {
   "cell_type": "code",
   "execution_count": 8,
   "id": "8dd6222a-89da-4219-83c1-61f816f2a26e",
   "metadata": {},
   "outputs": [
    {
     "data": {
      "text/html": [
       "<div>\n",
       "<style scoped>\n",
       "    .dataframe tbody tr th:only-of-type {\n",
       "        vertical-align: middle;\n",
       "    }\n",
       "\n",
       "    .dataframe tbody tr th {\n",
       "        vertical-align: top;\n",
       "    }\n",
       "\n",
       "    .dataframe thead th {\n",
       "        text-align: right;\n",
       "    }\n",
       "</style>\n",
       "<table border=\"1\" class=\"dataframe\">\n",
       "  <thead>\n",
       "    <tr style=\"text-align: right;\">\n",
       "      <th></th>\n",
       "      <th>tw_Close</th>\n",
       "      <th>tw_daily_return</th>\n",
       "      <th>tw_log_return</th>\n",
       "      <th>5-10ma</th>\n",
       "      <th>5-15ma</th>\n",
       "      <th>5-20ma</th>\n",
       "      <th>5-25ma</th>\n",
       "      <th>vix_daily_return</th>\n",
       "      <th>vix_log_return</th>\n",
       "      <th>vix_high_low</th>\n",
       "      <th>vix_min_mix</th>\n",
       "      <th>label</th>\n",
       "    </tr>\n",
       "    <tr>\n",
       "      <th>Date</th>\n",
       "      <th></th>\n",
       "      <th></th>\n",
       "      <th></th>\n",
       "      <th></th>\n",
       "      <th></th>\n",
       "      <th></th>\n",
       "      <th></th>\n",
       "      <th></th>\n",
       "      <th></th>\n",
       "      <th></th>\n",
       "      <th></th>\n",
       "      <th></th>\n",
       "    </tr>\n",
       "  </thead>\n",
       "  <tbody>\n",
       "    <tr>\n",
       "      <th>2005-01-04</th>\n",
       "      <td>6060.437500</td>\n",
       "      <td>-0.013456</td>\n",
       "      <td>-0.013547</td>\n",
       "      <td>-4.133008</td>\n",
       "      <td>-5.510677</td>\n",
       "      <td>-6.199512</td>\n",
       "      <td>-6.612812</td>\n",
       "      <td>-0.007102</td>\n",
       "      <td>-0.007128</td>\n",
       "      <td>0.037196</td>\n",
       "      <td>0.065806</td>\n",
       "      <td>0</td>\n",
       "    </tr>\n",
       "    <tr>\n",
       "      <th>2005-01-05</th>\n",
       "      <td>5988.347656</td>\n",
       "      <td>-0.011895</td>\n",
       "      <td>-0.011966</td>\n",
       "      <td>-10.010140</td>\n",
       "      <td>-13.411941</td>\n",
       "      <td>-15.120949</td>\n",
       "      <td>-16.148409</td>\n",
       "      <td>0.007868</td>\n",
       "      <td>0.007838</td>\n",
       "      <td>0.058907</td>\n",
       "      <td>0.067301</td>\n",
       "      <td>0</td>\n",
       "    </tr>\n",
       "    <tr>\n",
       "      <th>2005-01-06</th>\n",
       "      <td>5982.098145</td>\n",
       "      <td>-0.001044</td>\n",
       "      <td>-0.001044</td>\n",
       "      <td>-12.004938</td>\n",
       "      <td>-16.340442</td>\n",
       "      <td>-18.559688</td>\n",
       "      <td>-19.906080</td>\n",
       "      <td>-0.036196</td>\n",
       "      <td>-0.036867</td>\n",
       "      <td>0.055965</td>\n",
       "      <td>0.060367</td>\n",
       "      <td>0</td>\n",
       "    </tr>\n",
       "    <tr>\n",
       "      <th>2005-01-07</th>\n",
       "      <td>5935.968262</td>\n",
       "      <td>-0.007711</td>\n",
       "      <td>-0.007741</td>\n",
       "      <td>-16.510758</td>\n",
       "      <td>-22.600072</td>\n",
       "      <td>-25.733493</td>\n",
       "      <td>-27.638545</td>\n",
       "      <td>-0.006627</td>\n",
       "      <td>-0.006649</td>\n",
       "      <td>0.042254</td>\n",
       "      <td>0.059143</td>\n",
       "      <td>0</td>\n",
       "    </tr>\n",
       "    <tr>\n",
       "      <th>2005-01-10</th>\n",
       "      <td>5942.828125</td>\n",
       "      <td>0.001156</td>\n",
       "      <td>0.001155</td>\n",
       "      <td>-16.845460</td>\n",
       "      <td>-23.539864</td>\n",
       "      <td>-27.061996</td>\n",
       "      <td>-29.225846</td>\n",
       "      <td>-0.019274</td>\n",
       "      <td>-0.019462</td>\n",
       "      <td>0.074830</td>\n",
       "      <td>0.055608</td>\n",
       "      <td>0</td>\n",
       "    </tr>\n",
       "  </tbody>\n",
       "</table>\n",
       "</div>"
      ],
      "text/plain": [
       "               tw_Close  tw_daily_return  tw_log_return     5-10ma     5-15ma  \\\n",
       "Date                                                                            \n",
       "2005-01-04  6060.437500        -0.013456      -0.013547  -4.133008  -5.510677   \n",
       "2005-01-05  5988.347656        -0.011895      -0.011966 -10.010140 -13.411941   \n",
       "2005-01-06  5982.098145        -0.001044      -0.001044 -12.004938 -16.340442   \n",
       "2005-01-07  5935.968262        -0.007711      -0.007741 -16.510758 -22.600072   \n",
       "2005-01-10  5942.828125         0.001156       0.001155 -16.845460 -23.539864   \n",
       "\n",
       "               5-20ma     5-25ma  vix_daily_return  vix_log_return  \\\n",
       "Date                                                                 \n",
       "2005-01-04  -6.199512  -6.612812         -0.007102       -0.007128   \n",
       "2005-01-05 -15.120949 -16.148409          0.007868        0.007838   \n",
       "2005-01-06 -18.559688 -19.906080         -0.036196       -0.036867   \n",
       "2005-01-07 -25.733493 -27.638545         -0.006627       -0.006649   \n",
       "2005-01-10 -27.061996 -29.225846         -0.019274       -0.019462   \n",
       "\n",
       "            vix_high_low  vix_min_mix  label  \n",
       "Date                                          \n",
       "2005-01-04      0.037196     0.065806      0  \n",
       "2005-01-05      0.058907     0.067301      0  \n",
       "2005-01-06      0.055965     0.060367      0  \n",
       "2005-01-07      0.042254     0.059143      0  \n",
       "2005-01-10      0.074830     0.055608      0  "
      ]
     },
     "execution_count": 8,
     "metadata": {},
     "output_type": "execute_result"
    }
   ],
   "source": [
    "# 0050 MACD + vix\n",
    "data_merge = pd.merge(data_tw_merge, data_vix_merge, how = 'inner', left_index = True, right_index = True)\n",
    "data_merge = data_merge.rename(columns = {'Adj Close' : 'tw_Close', 'daily_return_x' : 'tw_daily_return', 'log_return_x': 'tw_log_return', 'daily_return_y': 'vix_daily_return', 'high-low': 'vix_high_low', 'max-min': 'vix_min_mix', 'log_return_y': 'vix_log_return'})\n",
    "data_merge = data_merge.reindex(columns = ['tw_Close', 'tw_daily_return', 'tw_log_return', '5-10ma', '5-15ma', '5-20ma', '5-25ma', 'vix_daily_return', 'vix_log_return', 'vix_high_low', 'vix_min_mix', 'label'])\n",
    "data_merge.head()"
   ]
  },
  {
   "cell_type": "code",
   "execution_count": 9,
   "id": "8d34d35e",
   "metadata": {},
   "outputs": [
    {
     "data": {
      "text/plain": [
       "[<matplotlib.lines.Line2D at 0x1ea9a068a60>]"
      ]
     },
     "execution_count": 9,
     "metadata": {},
     "output_type": "execute_result"
    },
    {
     "data": {
      "image/png": "[encoded data removed]",
      "text/plain": [
       "<Figure size 288x216 with 1 Axes>"
      ]
     },
     "metadata": {
      "needs_background": "light"
     },
     "output_type": "display_data"
    }
   ],
   "source": [
    "# Vix Close\n",
    "plt.figure(figsize = (4, 3))\n",
    "plt.plot(data_vix.Close)"
   ]
  },
  {
   "cell_type": "code",
   "execution_count": 10,
   "id": "33cdbe3f",
   "metadata": {},
   "outputs": [
    {
     "data": {
      "text/plain": [
       "[<matplotlib.lines.Line2D at 0x1eacb651d60>]"
      ]
     },
     "execution_count": 10,
     "metadata": {},
     "output_type": "execute_result"
    },
    {
     "data": {
      "image/png": "[encoded data removed]",
      "text/plain": [
       "<Figure size 288x216 with 1 Axes>"
      ]
     },
     "metadata": {
      "needs_background": "light"
     },
     "output_type": "display_data"
    }
   ],
   "source": [
    "# Vix log \n",
    "plt.figure(figsize = (4, 3))\n",
    "plt.plot(data_merge.vix_log_return)"
   ]
  },
  {
   "cell_type": "code",
   "execution_count": 11,
   "id": "2cae95c8",
   "metadata": {},
   "outputs": [
    {
     "data": {
      "text/plain": [
       "[<matplotlib.lines.Line2D at 0x1eacb6a4490>]"
      ]
     },
     "execution_count": 11,
     "metadata": {},
     "output_type": "execute_result"
    },
    {
     "data": {
      "image/png": "[encoded data removed]",
      "text/plain": [
       "<Figure size 288x216 with 1 Axes>"
      ]
     },
     "metadata": {
      "needs_background": "light"
     },
     "output_type": "display_data"
    }
   ],
   "source": [
    "# TW close\n",
    "plt.figure(figsize = (4, 3))\n",
    "plt.plot(data_merge.tw_Close)"
   ]
  },
  {
   "cell_type": "code",
   "execution_count": 12,
   "id": "f6574190",
   "metadata": {},
   "outputs": [
    {
     "data": {
      "text/plain": [
       "[<matplotlib.lines.Line2D at 0x1eacb70d970>]"
      ]
     },
     "execution_count": 12,
     "metadata": {},
     "output_type": "execute_result"
    },
    {
     "data": {
      "image/png": "[encoded data removed]",
      "text/plain": [
       "<Figure size 288x216 with 1 Axes>"
      ]
     },
     "metadata": {
      "needs_background": "light"
     },
     "output_type": "display_data"
    }
   ],
   "source": [
    "# TW 5-10ma\n",
    "plt.figure(figsize = (4, 3))\n",
    "plt.plot(data_merge['5-10ma'])"
   ]
  },
  {
   "cell_type": "code",
   "execution_count": 13,
   "id": "5f56da69",
   "metadata": {},
   "outputs": [
    {
     "data": {
      "text/plain": [
       "True     3789\n",
       "False     208\n",
       "Name: label, dtype: int64"
      ]
     },
     "execution_count": 13,
     "metadata": {},
     "output_type": "execute_result"
    }
   ],
   "source": [
    "(data_merge['label'] == 0).value_counts()"
   ]
  },
  {
   "cell_type": "code",
   "execution_count": 14,
   "id": "6e392bf9",
   "metadata": {},
   "outputs": [
    {
     "data": {
      "text/html": [
       "<div>\n",
       "<style scoped>\n",
       "    .dataframe tbody tr th:only-of-type {\n",
       "        vertical-align: middle;\n",
       "    }\n",
       "\n",
       "    .dataframe tbody tr th {\n",
       "        vertical-align: top;\n",
       "    }\n",
       "\n",
       "    .dataframe thead th {\n",
       "        text-align: right;\n",
       "    }\n",
       "</style>\n",
       "<table border=\"1\" class=\"dataframe\">\n",
       "  <thead>\n",
       "    <tr style=\"text-align: right;\">\n",
       "      <th></th>\n",
       "      <th>tw_Close</th>\n",
       "      <th>tw_daily_return</th>\n",
       "      <th>tw_log_return</th>\n",
       "      <th>5-10ma</th>\n",
       "      <th>5-15ma</th>\n",
       "      <th>5-20ma</th>\n",
       "      <th>5-25ma</th>\n",
       "      <th>vix_daily_return</th>\n",
       "      <th>vix_log_return</th>\n",
       "      <th>vix_high_low</th>\n",
       "      <th>vix_min_mix</th>\n",
       "      <th>label</th>\n",
       "    </tr>\n",
       "    <tr>\n",
       "      <th>Date</th>\n",
       "      <th></th>\n",
       "      <th></th>\n",
       "      <th></th>\n",
       "      <th></th>\n",
       "      <th></th>\n",
       "      <th></th>\n",
       "      <th></th>\n",
       "      <th></th>\n",
       "      <th></th>\n",
       "      <th></th>\n",
       "      <th></th>\n",
       "      <th></th>\n",
       "    </tr>\n",
       "  </thead>\n",
       "  <tbody>\n",
       "    <tr>\n",
       "      <th>2005-01-24</th>\n",
       "      <td>5771.458984</td>\n",
       "      <td>-0.013238</td>\n",
       "      <td>-0.013327</td>\n",
       "      <td>-31.133285</td>\n",
       "      <td>-46.252287</td>\n",
       "      <td>-54.975989</td>\n",
       "      <td>-60.581356</td>\n",
       "      <td>0.020195</td>\n",
       "      <td>0.019994</td>\n",
       "      <td>0.039590</td>\n",
       "      <td>0.074915</td>\n",
       "      <td>1</td>\n",
       "    </tr>\n",
       "    <tr>\n",
       "      <th>2005-03-01</th>\n",
       "      <td>6259.666016</td>\n",
       "      <td>0.008354</td>\n",
       "      <td>0.008319</td>\n",
       "      <td>46.017951</td>\n",
       "      <td>80.490329</td>\n",
       "      <td>104.665951</td>\n",
       "      <td>121.345098</td>\n",
       "      <td>-0.003311</td>\n",
       "      <td>-0.003317</td>\n",
       "      <td>0.036545</td>\n",
       "      <td>0.039429</td>\n",
       "      <td>-1</td>\n",
       "    </tr>\n",
       "    <tr>\n",
       "      <th>2005-04-20</th>\n",
       "      <td>5692.988770</td>\n",
       "      <td>-0.009627</td>\n",
       "      <td>-0.009674</td>\n",
       "      <td>-73.953690</td>\n",
       "      <td>-116.745128</td>\n",
       "      <td>-145.746048</td>\n",
       "      <td>-166.212857</td>\n",
       "      <td>0.131016</td>\n",
       "      <td>0.123116</td>\n",
       "      <td>0.161347</td>\n",
       "      <td>0.105778</td>\n",
       "      <td>1</td>\n",
       "    </tr>\n",
       "    <tr>\n",
       "      <th>2005-07-08</th>\n",
       "      <td>6201.376465</td>\n",
       "      <td>-0.001803</td>\n",
       "      <td>-0.001804</td>\n",
       "      <td>-17.259358</td>\n",
       "      <td>-16.456729</td>\n",
       "      <td>-4.834605</td>\n",
       "      <td>11.139135</td>\n",
       "      <td>-0.083267</td>\n",
       "      <td>-0.086939</td>\n",
       "      <td>0.104803</td>\n",
       "      <td>0.031407</td>\n",
       "      <td>1</td>\n",
       "    </tr>\n",
       "    <tr>\n",
       "      <th>2005-08-04</th>\n",
       "      <td>6445.985352</td>\n",
       "      <td>-0.001481</td>\n",
       "      <td>-0.001482</td>\n",
       "      <td>18.587778</td>\n",
       "      <td>30.732214</td>\n",
       "      <td>44.196282</td>\n",
       "      <td>59.329184</td>\n",
       "      <td>0.058326</td>\n",
       "      <td>0.056689</td>\n",
       "      <td>0.046326</td>\n",
       "      <td>0.045955</td>\n",
       "      <td>-1</td>\n",
       "    </tr>\n",
       "  </tbody>\n",
       "</table>\n",
       "</div>"
      ],
      "text/plain": [
       "               tw_Close  tw_daily_return  tw_log_return     5-10ma  \\\n",
       "Date                                                                 \n",
       "2005-01-24  5771.458984        -0.013238      -0.013327 -31.133285   \n",
       "2005-03-01  6259.666016         0.008354       0.008319  46.017951   \n",
       "2005-04-20  5692.988770        -0.009627      -0.009674 -73.953690   \n",
       "2005-07-08  6201.376465        -0.001803      -0.001804 -17.259358   \n",
       "2005-08-04  6445.985352        -0.001481      -0.001482  18.587778   \n",
       "\n",
       "                5-15ma      5-20ma      5-25ma  vix_daily_return  \\\n",
       "Date                                                               \n",
       "2005-01-24  -46.252287  -54.975989  -60.581356          0.020195   \n",
       "2005-03-01   80.490329  104.665951  121.345098         -0.003311   \n",
       "2005-04-20 -116.745128 -145.746048 -166.212857          0.131016   \n",
       "2005-07-08  -16.456729   -4.834605   11.139135         -0.083267   \n",
       "2005-08-04   30.732214   44.196282   59.329184          0.058326   \n",
       "\n",
       "            vix_log_return  vix_high_low  vix_min_mix  label  \n",
       "Date                                                          \n",
       "2005-01-24        0.019994      0.039590     0.074915      1  \n",
       "2005-03-01       -0.003317      0.036545     0.039429     -1  \n",
       "2005-04-20        0.123116      0.161347     0.105778      1  \n",
       "2005-07-08       -0.086939      0.104803     0.031407      1  \n",
       "2005-08-04        0.056689      0.046326     0.045955     -1  "
      ]
     },
     "execution_count": 14,
     "metadata": {},
     "output_type": "execute_result"
    }
   ],
   "source": [
    "mask = (data_merge['label'] != 0)\n",
    "data_train = data_merge[mask]\n",
    "data_train.head()"
   ]
  },
  {
   "cell_type": "code",
   "execution_count": 15,
   "id": "21daa2c4",
   "metadata": {},
   "outputs": [
    {
     "data": {
      "text/html": [
       "<div>\n",
       "<style scoped>\n",
       "    .dataframe tbody tr th:only-of-type {\n",
       "        vertical-align: middle;\n",
       "    }\n",
       "\n",
       "    .dataframe tbody tr th {\n",
       "        vertical-align: top;\n",
       "    }\n",
       "\n",
       "    .dataframe thead th {\n",
       "        text-align: right;\n",
       "    }\n",
       "</style>\n",
       "<table border=\"1\" class=\"dataframe\">\n",
       "  <thead>\n",
       "    <tr style=\"text-align: right;\">\n",
       "      <th></th>\n",
       "      <th>tw_Close</th>\n",
       "      <th>tw_daily_return</th>\n",
       "      <th>tw_log_return</th>\n",
       "      <th>5-10ma</th>\n",
       "      <th>5-15ma</th>\n",
       "      <th>5-20ma</th>\n",
       "      <th>5-25ma</th>\n",
       "      <th>vix_daily_return</th>\n",
       "      <th>vix_log_return</th>\n",
       "      <th>vix_high_low</th>\n",
       "      <th>vix_min_mix</th>\n",
       "      <th>label</th>\n",
       "    </tr>\n",
       "  </thead>\n",
       "  <tbody>\n",
       "    <tr>\n",
       "      <th>tw_Close</th>\n",
       "      <td>1.000000</td>\n",
       "      <td>0.114968</td>\n",
       "      <td>0.116805</td>\n",
       "      <td>0.065539</td>\n",
       "      <td>0.101100</td>\n",
       "      <td>0.137744</td>\n",
       "      <td>0.172497</td>\n",
       "      <td>-0.097319</td>\n",
       "      <td>-0.090585</td>\n",
       "      <td>0.003304</td>\n",
       "      <td>-0.329263</td>\n",
       "      <td>-0.114244</td>\n",
       "    </tr>\n",
       "    <tr>\n",
       "      <th>tw_daily_return</th>\n",
       "      <td>0.114968</td>\n",
       "      <td>1.000000</td>\n",
       "      <td>0.999862</td>\n",
       "      <td>0.439734</td>\n",
       "      <td>0.399189</td>\n",
       "      <td>0.375325</td>\n",
       "      <td>0.358221</td>\n",
       "      <td>0.027562</td>\n",
       "      <td>0.044748</td>\n",
       "      <td>-0.341724</td>\n",
       "      <td>-0.224240</td>\n",
       "      <td>-0.660152</td>\n",
       "    </tr>\n",
       "    <tr>\n",
       "      <th>tw_log_return</th>\n",
       "      <td>0.116805</td>\n",
       "      <td>0.999862</td>\n",
       "      <td>1.000000</td>\n",
       "      <td>0.446775</td>\n",
       "      <td>0.406428</td>\n",
       "      <td>0.382630</td>\n",
       "      <td>0.365550</td>\n",
       "      <td>0.026652</td>\n",
       "      <td>0.043907</td>\n",
       "      <td>-0.345001</td>\n",
       "      <td>-0.232008</td>\n",
       "      <td>-0.659904</td>\n",
       "    </tr>\n",
       "    <tr>\n",
       "      <th>5-10ma</th>\n",
       "      <td>0.065539</td>\n",
       "      <td>0.439734</td>\n",
       "      <td>0.446775</td>\n",
       "      <td>1.000000</td>\n",
       "      <td>0.988309</td>\n",
       "      <td>0.965219</td>\n",
       "      <td>0.938587</td>\n",
       "      <td>0.180929</td>\n",
       "      <td>0.210716</td>\n",
       "      <td>-0.471461</td>\n",
       "      <td>-0.414879</td>\n",
       "      <td>-0.596541</td>\n",
       "    </tr>\n",
       "    <tr>\n",
       "      <th>5-15ma</th>\n",
       "      <td>0.101100</td>\n",
       "      <td>0.399189</td>\n",
       "      <td>0.406428</td>\n",
       "      <td>0.988309</td>\n",
       "      <td>1.000000</td>\n",
       "      <td>0.993450</td>\n",
       "      <td>0.978823</td>\n",
       "      <td>0.160667</td>\n",
       "      <td>0.189953</td>\n",
       "      <td>-0.458189</td>\n",
       "      <td>-0.438289</td>\n",
       "      <td>-0.538844</td>\n",
       "    </tr>\n",
       "    <tr>\n",
       "      <th>5-20ma</th>\n",
       "      <td>0.137744</td>\n",
       "      <td>0.375325</td>\n",
       "      <td>0.382630</td>\n",
       "      <td>0.965219</td>\n",
       "      <td>0.993450</td>\n",
       "      <td>1.000000</td>\n",
       "      <td>0.995691</td>\n",
       "      <td>0.143611</td>\n",
       "      <td>0.172423</td>\n",
       "      <td>-0.447049</td>\n",
       "      <td>-0.456117</td>\n",
       "      <td>-0.496699</td>\n",
       "    </tr>\n",
       "    <tr>\n",
       "      <th>5-25ma</th>\n",
       "      <td>0.172497</td>\n",
       "      <td>0.358221</td>\n",
       "      <td>0.365550</td>\n",
       "      <td>0.938587</td>\n",
       "      <td>0.978823</td>\n",
       "      <td>0.995691</td>\n",
       "      <td>1.000000</td>\n",
       "      <td>0.129473</td>\n",
       "      <td>0.157830</td>\n",
       "      <td>-0.437218</td>\n",
       "      <td>-0.471116</td>\n",
       "      <td>-0.463031</td>\n",
       "    </tr>\n",
       "    <tr>\n",
       "      <th>vix_daily_return</th>\n",
       "      <td>-0.097319</td>\n",
       "      <td>0.027562</td>\n",
       "      <td>0.026652</td>\n",
       "      <td>0.180929</td>\n",
       "      <td>0.160667</td>\n",
       "      <td>0.143611</td>\n",
       "      <td>0.129473</td>\n",
       "      <td>1.000000</td>\n",
       "      <td>0.993155</td>\n",
       "      <td>0.145016</td>\n",
       "      <td>0.130103</td>\n",
       "      <td>-0.294705</td>\n",
       "    </tr>\n",
       "    <tr>\n",
       "      <th>vix_log_return</th>\n",
       "      <td>-0.090585</td>\n",
       "      <td>0.044748</td>\n",
       "      <td>0.043907</td>\n",
       "      <td>0.210716</td>\n",
       "      <td>0.189953</td>\n",
       "      <td>0.172423</td>\n",
       "      <td>0.157830</td>\n",
       "      <td>0.993155</td>\n",
       "      <td>1.000000</td>\n",
       "      <td>0.068912</td>\n",
       "      <td>0.114758</td>\n",
       "      <td>-0.316791</td>\n",
       "    </tr>\n",
       "    <tr>\n",
       "      <th>vix_high_low</th>\n",
       "      <td>0.003304</td>\n",
       "      <td>-0.341724</td>\n",
       "      <td>-0.345001</td>\n",
       "      <td>-0.471461</td>\n",
       "      <td>-0.458189</td>\n",
       "      <td>-0.447049</td>\n",
       "      <td>-0.437218</td>\n",
       "      <td>0.145016</td>\n",
       "      <td>0.068912</td>\n",
       "      <td>1.000000</td>\n",
       "      <td>0.377842</td>\n",
       "      <td>0.299057</td>\n",
       "    </tr>\n",
       "    <tr>\n",
       "      <th>vix_min_mix</th>\n",
       "      <td>-0.329263</td>\n",
       "      <td>-0.224240</td>\n",
       "      <td>-0.232008</td>\n",
       "      <td>-0.414879</td>\n",
       "      <td>-0.438289</td>\n",
       "      <td>-0.456117</td>\n",
       "      <td>-0.471116</td>\n",
       "      <td>0.130103</td>\n",
       "      <td>0.114758</td>\n",
       "      <td>0.377842</td>\n",
       "      <td>1.000000</td>\n",
       "      <td>0.142553</td>\n",
       "    </tr>\n",
       "    <tr>\n",
       "      <th>label</th>\n",
       "      <td>-0.114244</td>\n",
       "      <td>-0.660152</td>\n",
       "      <td>-0.659904</td>\n",
       "      <td>-0.596541</td>\n",
       "      <td>-0.538844</td>\n",
       "      <td>-0.496699</td>\n",
       "      <td>-0.463031</td>\n",
       "      <td>-0.294705</td>\n",
       "      <td>-0.316791</td>\n",
       "      <td>0.299057</td>\n",
       "      <td>0.142553</td>\n",
       "      <td>1.000000</td>\n",
       "    </tr>\n",
       "  </tbody>\n",
       "</table>\n",
       "</div>"
      ],
      "text/plain": [
       "                  tw_Close  tw_daily_return  tw_log_return    5-10ma  \\\n",
       "tw_Close          1.000000         0.114968       0.116805  0.065539   \n",
       "tw_daily_return   0.114968         1.000000       0.999862  0.439734   \n",
       "tw_log_return     0.116805         0.999862       1.000000  0.446775   \n",
       "5-10ma            0.065539         0.439734       0.446775  1.000000   \n",
       "5-15ma            0.101100         0.399189       0.406428  0.988309   \n",
       "5-20ma            0.137744         0.375325       0.382630  0.965219   \n",
       "5-25ma            0.172497         0.358221       0.365550  0.938587   \n",
       "vix_daily_return -0.097319         0.027562       0.026652  0.180929   \n",
       "vix_log_return   -0.090585         0.044748       0.043907  0.210716   \n",
       "vix_high_low      0.003304        -0.341724      -0.345001 -0.471461   \n",
       "vix_min_mix      -0.329263        -0.224240      -0.232008 -0.414879   \n",
       "label            -0.114244        -0.660152      -0.659904 -0.596541   \n",
       "\n",
       "                    5-15ma    5-20ma    5-25ma  vix_daily_return  \\\n",
       "tw_Close          0.101100  0.137744  0.172497         -0.097319   \n",
       "tw_daily_return   0.399189  0.375325  0.358221          0.027562   \n",
       "tw_log_return     0.406428  0.382630  0.365550          0.026652   \n",
       "5-10ma            0.988309  0.965219  0.938587          0.180929   \n",
       "5-15ma            1.000000  0.993450  0.978823          0.160667   \n",
       "5-20ma            0.993450  1.000000  0.995691          0.143611   \n",
       "5-25ma            0.978823  0.995691  1.000000          0.129473   \n",
       "vix_daily_return  0.160667  0.143611  0.129473          1.000000   \n",
       "vix_log_return    0.189953  0.172423  0.157830          0.993155   \n",
       "vix_high_low     -0.458189 -0.447049 -0.437218          0.145016   \n",
       "vix_min_mix      -0.438289 -0.456117 -0.471116          0.130103   \n",
       "label            -0.538844 -0.496699 -0.463031         -0.294705   \n",
       "\n",
       "                  vix_log_return  vix_high_low  vix_min_mix     label  \n",
       "tw_Close               -0.090585      0.003304    -0.329263 -0.114244  \n",
       "tw_daily_return         0.044748     -0.341724    -0.224240 -0.660152  \n",
       "tw_log_return           0.043907     -0.345001    -0.232008 -0.659904  \n",
       "5-10ma                  0.210716     -0.471461    -0.414879 -0.596541  \n",
       "5-15ma                  0.189953     -0.458189    -0.438289 -0.538844  \n",
       "5-20ma                  0.172423     -0.447049    -0.456117 -0.496699  \n",
       "5-25ma                  0.157830     -0.437218    -0.471116 -0.463031  \n",
       "vix_daily_return        0.993155      0.145016     0.130103 -0.294705  \n",
       "vix_log_return          1.000000      0.068912     0.114758 -0.316791  \n",
       "vix_high_low            0.068912      1.000000     0.377842  0.299057  \n",
       "vix_min_mix             0.114758      0.377842     1.000000  0.142553  \n",
       "label                  -0.316791      0.299057     0.142553  1.000000  "
      ]
     },
     "execution_count": 15,
     "metadata": {},
     "output_type": "execute_result"
    }
   ],
   "source": [
    "data_train.corr(method='pearson')"
   ]
  },
  {
   "cell_type": "code",
   "execution_count": 16,
   "id": "36307ab4",
   "metadata": {},
   "outputs": [
    {
     "data": {
      "text/plain": [
       "False    3889\n",
       "True      108\n",
       "Name: label, dtype: int64"
      ]
     },
     "execution_count": 16,
     "metadata": {},
     "output_type": "execute_result"
    }
   ],
   "source": [
    "(data_merge['label'] == 1).value_counts()"
   ]
  },
  {
   "cell_type": "code",
   "execution_count": 17,
   "id": "815fca2a",
   "metadata": {},
   "outputs": [
    {
     "data": {
      "text/plain": [
       "False    3897\n",
       "True      100\n",
       "Name: label, dtype: int64"
      ]
     },
     "execution_count": 17,
     "metadata": {},
     "output_type": "execute_result"
    }
   ],
   "source": [
    "(data_merge['label'] == -1).value_counts()"
   ]
  },
  {
   "cell_type": "code",
   "execution_count": 18,
   "id": "44895ab2",
   "metadata": {},
   "outputs": [
    {
     "name": "stdout",
     "output_type": "stream",
     "text": [
      "x : (208, 11) \n",
      "y : (208,)\n"
     ]
    }
   ],
   "source": [
    "x, y = data_train.iloc[:, :11].values, data_train.iloc[:, 11].values\n",
    "print(f'x : {x.shape} \\ny : {y.shape}')"
   ]
  },
  {
   "cell_type": "code",
   "execution_count": 19,
   "id": "a3135015",
   "metadata": {},
   "outputs": [
    {
     "name": "stdout",
     "output_type": "stream",
     "text": [
      "3 : 0.9138211382113821\n",
      "4 : 0.8708478513356562\n",
      "5 : 0.8034843205574912\n",
      "6 : 0.7795586527293844\n"
     ]
    }
   ],
   "source": [
    "# Feature selection find better MACD\n",
    "# cross-validation\n",
    "from sklearn.model_selection import cross_val_score\n",
    "from sklearn.metrics import accuracy_score\n",
    "from sklearn import svm\n",
    "\n",
    "clf = svm.SVC()\n",
    "\n",
    "x_selection = x[:, 8]\n",
    "for i in range(3, 7):\n",
    "    x_selection_copy = np.concatenate([x_selection.reshape(-1, 1), x[:, i].reshape(-1, 1)], axis = 1)\n",
    "    scores = cross_val_score(clf, x_selection_copy, y, cv = 5).mean()\n",
    "    print(f'{i} : {scores}')"
   ]
  },
  {
   "cell_type": "code",
   "execution_count": 20,
   "id": "dff3cb67",
   "metadata": {},
   "outputs": [
    {
     "name": "stdout",
     "output_type": "stream",
     "text": [
      "3 : 0.9182692307692307\n",
      "\n",
      "4 : 0.8701923076923077\n",
      "\n",
      "5 : 0.8076923076923077\n",
      "\n",
      "6 : 0.7884615384615384\n",
      "\n",
      "7 : 0.7355769230769231\n",
      "\n"
     ]
    }
   ],
   "source": [
    "# evaluation\n",
    "for i in range(3, 8):\n",
    "    clf.fit(x[:, [i, 8]], y)\n",
    "    y_predict = clf.predict(x[:, [i, 8]])\n",
    "    print(f'{i} : {accuracy_score(y, y_predict)}\\n')"
   ]
  },
  {
   "cell_type": "code",
   "execution_count": 21,
   "id": "af6faffc",
   "metadata": {
    "scrolled": true
   },
   "outputs": [
    {
     "name": "stderr",
     "output_type": "stream",
     "text": [
      "c:\\python\\lib\\site-packages\\sklearn\\linear_model\\_stochastic_gradient.py:696: ConvergenceWarning: Maximum number of iteration reached before convergence. Consider increasing max_iter to improve the fit.\n",
      "  warnings.warn(\n",
      "c:\\python\\lib\\site-packages\\sklearn\\linear_model\\_stochastic_gradient.py:696: ConvergenceWarning: Maximum number of iteration reached before convergence. Consider increasing max_iter to improve the fit.\n",
      "  warnings.warn(\n",
      "c:\\python\\lib\\site-packages\\sklearn\\linear_model\\_stochastic_gradient.py:696: ConvergenceWarning: Maximum number of iteration reached before convergence. Consider increasing max_iter to improve the fit.\n",
      "  warnings.warn(\n"
     ]
    },
    {
     "name": "stdout",
     "output_type": "stream",
     "text": [
      "0 : 0.9040650406504065\n",
      "1 : 0.8368176538908246\n",
      "2 : 0.8850174216027875\n",
      "3 : 0.8420441347270616\n",
      "4 : 0.9138211382113821\n"
     ]
    }
   ],
   "source": [
    "# Using Diff Models\n",
    "from sklearn.linear_model import SGDClassifier\n",
    "from sklearn import tree\n",
    "from sklearn.ensemble import RandomForestClassifier\n",
    "from xgboost import XGBClassifier\n",
    "from sklearn.naive_bayes import GaussianNB\n",
    "from sklearn.neighbors import KNeighborsClassifier\n",
    "\n",
    "sgd_clf = SGDClassifier(loss=\"hinge\", penalty=\"l2\", max_iter=10)\n",
    "tree_clf = tree.DecisionTreeClassifier()\n",
    "clf_random = RandomForestClassifier(n_estimators=200)\n",
    "xgbc = XGBClassifier()\n",
    "gnb = GaussianNB()\n",
    "knn = KNeighborsClassifier(n_neighbors= 15)\n",
    "\n",
    "model = [sgd_clf, tree_clf, clf_random, gnb, knn]\n",
    "model_list = ['sgd_clf', 'tree_clf', 'clf_random', 'gnb','knn']\n",
    "for i in range(0, 5):\n",
    "    x_selection_copy = np.concatenate([x_selection.reshape(-1, 1), x[:, 3].reshape(-1, 1)], axis = 1)\n",
    "    scores = cross_val_score(model[i], x_selection_copy, y, cv = 5).mean()\n",
    "    print(f'{model[]} : {scores}')"
   ]
  },
  {
   "cell_type": "code",
   "execution_count": 32,
   "id": "262b50f5",
   "metadata": {},
   "outputs": [],
   "source": [
    "x_test_data = data_merge.iloc[-200:, [3, 8]].values\n",
    "y_test_data = data_merge.iloc[-200:, 11].values"
   ]
  },
  {
   "cell_type": "code",
   "execution_count": 34,
   "id": "bcc05c87",
   "metadata": {},
   "outputs": [
    {
     "data": {
      "text/plain": [
       "200"
      ]
     },
     "execution_count": 34,
     "metadata": {},
     "output_type": "execute_result"
    }
   ],
   "source": [
    "len(x_test_data)"
   ]
  },
  {
   "cell_type": "code",
   "execution_count": 37,
   "id": "1406ec78",
   "metadata": {},
   "outputs": [
    {
     "data": {
      "text/plain": [
       "0.06"
      ]
     },
     "execution_count": 37,
     "metadata": {},
     "output_type": "execute_result"
    }
   ],
   "source": [
    "y_predict_all = clf.predict(x_test_data)\n",
    "accuracy_score(y_test_data, y_predict_all)"
   ]
  },
  {
   "cell_type": "code",
   "execution_count": null,
   "id": "e5114094",
   "metadata": {},
   "outputs": [],
   "source": [
    "y_test_data"
   ]
  },
  {
   "cell_type": "code",
   "execution_count": null,
   "id": "4cd2ce77",
   "metadata": {},
   "outputs": [],
   "source": []
  },
  {
   "cell_type": "code",
   "execution_count": null,
   "id": "8e092e05",
   "metadata": {},
   "outputs": [],
   "source": []
  },
  {
   "cell_type": "code",
   "execution_count": null,
   "id": "25869ce5",
   "metadata": {},
   "outputs": [],
   "source": []
  },
  {
   "cell_type": "code",
   "execution_count": null,
   "id": "c66359c7",
   "metadata": {},
   "outputs": [],
   "source": []
  },
  {
   "cell_type": "code",
   "execution_count": 22,
   "id": "05a45dd9",
   "metadata": {},
   "outputs": [
    {
     "name": "stdout",
     "output_type": "stream",
     "text": [
      "4 : 0.9182692307692307\n",
      "\n"
     ]
    }
   ],
   "source": [
    "clf.fit(x[:, [3, 8]], y)\n",
    "y_predict = clf.predict(x[:, [3, 8]])\n",
    "print(f'{i} : {accuracy_score(y, y_predict)}\\n')"
   ]
  },
  {
   "cell_type": "code",
   "execution_count": 23,
   "id": "de4d2124",
   "metadata": {},
   "outputs": [],
   "source": [
    "y = y.astype(str)\n",
    "y[y=='1'] = 'b'\n",
    "y[y=='-1'] = 'r'\n",
    "y_predict = y_predict.astype(str)\n",
    "y_predict[y_predict=='1'] = 'c'\n",
    "y_predict[y_predict=='-1'] = 'g'\n",
    "# print(y)\n",
    "# print(y_predict)"
   ]
  },
  {
   "cell_type": "code",
   "execution_count": 24,
   "id": "15175706",
   "metadata": {},
   "outputs": [
    {
     "data": {
      "image/png": "[encoded data removed]",
      "text/plain": [
       "<Figure size 432x288 with 1 Axes>"
      ]
     },
     "metadata": {
      "needs_background": "light"
     },
     "output_type": "display_data"
    }
   ],
   "source": [
    "plt.scatter(x_selection, x[:, 3],c=y, marker='o')\n",
    "plt.show()"
   ]
  },
  {
   "cell_type": "code",
   "execution_count": 25,
   "id": "1645e718",
   "metadata": {},
   "outputs": [
    {
     "data": {
      "image/png": "[encoded data removed]",
      "text/plain": [
       "<Figure size 432x288 with 1 Axes>"
      ]
     },
     "metadata": {
      "needs_background": "light"
     },
     "output_type": "display_data"
    }
   ],
   "source": [
    "plt.scatter(x_selection, x[:, 3],c=y_predict, marker='o')\n",
    "plt.show()"
   ]
  }
 ],
 "metadata": {
  "kernelspec": {
   "display_name": "Python 3 (ipykernel)",
   "language": "python",
   "name": "python3"
  },
  "language_info": {
   "codemirror_mode": {
    "name": "ipython",
    "version": 3
   },
   "file_extension": ".py",
   "mimetype": "text/x-python",
   "name": "python",
   "nbconvert_exporter": "python",
   "pygments_lexer": "ipython3",
   "version": "3.9.5"
  }
 },
 "nbformat": 4,
 "nbformat_minor": 5
}
